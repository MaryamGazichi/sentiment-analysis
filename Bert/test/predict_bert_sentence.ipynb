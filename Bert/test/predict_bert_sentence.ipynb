{
  "nbformat": 4,
  "nbformat_minor": 0,
  "metadata": {
    "colab": {
      "provenance": []
    },
    "kernelspec": {
      "name": "python3",
      "display_name": "Python 3"
    },
    "language_info": {
      "name": "python"
    }
  },
  "cells": [
    {
      "cell_type": "code",
      "execution_count": 1,
      "metadata": {
        "id": "-MhFBruRfAsf",
        "colab": {
          "base_uri": "https://localhost:8080/"
        },
        "outputId": "b49be9af-b0b6-4864-9b0a-b642ad45ac0b"
      },
      "outputs": [
        {
          "output_type": "stream",
          "name": "stdout",
          "text": [
            "Mounted at /content/drive\n"
          ]
        }
      ],
      "source": [
        "from google.colab import drive\n",
        "drive.mount('/content/drive')"
      ]
    },
    {
      "cell_type": "code",
      "source": [
        "from transformers import TFDistilBertForSequenceClassification, DistilBertTokenizerFast\n",
        "import tensorflow as tf\n",
        "import numpy as np\n",
        "\n",
        "# Load model and tokenizer\n",
        "model_path = \"/content/drive/MyDrive/sentiment-analysis-bert/model\"\n",
        "model = TFDistilBertForSequenceClassification.from_pretrained(model_path)\n",
        "tokenizer = DistilBertTokenizerFast.from_pretrained(model_path)"
      ],
      "metadata": {
        "id": "mqCmp_VkkoWS",
        "colab": {
          "base_uri": "https://localhost:8080/"
        },
        "outputId": "3c8989da-f1c9-41c3-820c-384152508772"
      },
      "execution_count": 3,
      "outputs": [
        {
          "output_type": "stream",
          "name": "stderr",
          "text": [
            "Some layers from the model checkpoint at /content/drive/MyDrive/sentiment-analysis-bert/model were not used when initializing TFDistilBertForSequenceClassification: ['dropout_19']\n",
            "- This IS expected if you are initializing TFDistilBertForSequenceClassification from the checkpoint of a model trained on another task or with another architecture (e.g. initializing a BertForSequenceClassification model from a BertForPreTraining model).\n",
            "- This IS NOT expected if you are initializing TFDistilBertForSequenceClassification from the checkpoint of a model that you expect to be exactly identical (initializing a BertForSequenceClassification model from a BertForSequenceClassification model).\n",
            "Some layers of TFDistilBertForSequenceClassification were not initialized from the model checkpoint at /content/drive/MyDrive/sentiment-analysis-bert/model and are newly initialized: ['dropout_39']\n",
            "You should probably TRAIN this model on a down-stream task to be able to use it for predictions and inference.\n"
          ]
        }
      ]
    },
    {
      "cell_type": "code",
      "source": [
        "# Sample sentence\n",
        "sentence = \"This movie was absolutely wonderful and I loved it.\"\n",
        "\n",
        "# Tokenize\n",
        "inputs = tokenizer(sentence, return_tensors=\"tf\", truncation=True, padding=True, max_length=200)\n",
        "\n",
        "# Predict\n",
        "outputs = model(**inputs)\n",
        "pred = tf.nn.softmax(outputs.logits, axis=1)\n",
        "label = tf.argmax(pred, axis=1).numpy()[0]\n",
        "confidence = tf.reduce_max(pred).numpy()\n",
        "\n",
        "# Show result\n",
        "sentiment = \"Positive\" if label == 1 else \"Negative\"\n",
        "print(f\"Prediction: {sentiment} ({confidence:.4f})\")\n"
      ],
      "metadata": {
        "colab": {
          "base_uri": "https://localhost:8080/"
        },
        "id": "JiT7ppgNbr8_",
        "outputId": "165e34e0-4a64-4eb9-ba91-c4ad49f72596"
      },
      "execution_count": 7,
      "outputs": [
        {
          "output_type": "stream",
          "name": "stdout",
          "text": [
            "Prediction: Positive (0.9829)\n"
          ]
        }
      ]
    }
  ]
}